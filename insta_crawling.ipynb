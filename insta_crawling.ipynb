{
 "cells": [
  {
   "cell_type": "markdown",
   "metadata": {},
   "source": [
    "## 필요한 패키지 불러오기"
   ]
  },
  {
   "cell_type": "code",
   "execution_count": null,
   "metadata": {},
   "outputs": [],
   "source": [
    "import requests"
   ]
  },
  {
   "cell_type": "code",
   "execution_count": null,
   "metadata": {},
   "outputs": [],
   "source": [
    "from bs4 import BeautifulSoup"
   ]
  },
  {
   "cell_type": "code",
   "execution_count": null,
   "metadata": {},
   "outputs": [],
   "source": [
    "import pymysql"
   ]
  },
  {
   "cell_type": "code",
   "execution_count": null,
   "metadata": {},
   "outputs": [],
   "source": [
    "from selenium import webdriver"
   ]
  },
  {
   "cell_type": "code",
   "execution_count": null,
   "metadata": {},
   "outputs": [],
   "source": [
    "from selenium.webdriver.common.keys import Keys"
   ]
  },
  {
   "cell_type": "code",
   "execution_count": null,
   "metadata": {},
   "outputs": [],
   "source": [
    "import time as time"
   ]
  },
  {
   "cell_type": "code",
   "execution_count": null,
   "metadata": {},
   "outputs": [],
   "source": [
    "import getpass"
   ]
  },
  {
   "cell_type": "code",
   "execution_count": null,
   "metadata": {},
   "outputs": [],
   "source": [
    "import urllib.request"
   ]
  },
  {
   "cell_type": "code",
   "execution_count": null,
   "metadata": {},
   "outputs": [],
   "source": [
    "import random"
   ]
  },
  {
   "cell_type": "code",
   "execution_count": null,
   "metadata": {},
   "outputs": [],
   "source": [
    "from time import sleep"
   ]
  },
  {
   "cell_type": "code",
   "execution_count": null,
   "metadata": {},
   "outputs": [],
   "source": [
    "import pandas as pd"
   ]
  },
  {
   "cell_type": "code",
   "execution_count": null,
   "metadata": {},
   "outputs": [],
   "source": [
    "import numpy as np"
   ]
  },
  {
   "cell_type": "code",
   "execution_count": null,
   "metadata": {},
   "outputs": [],
   "source": [
    "import matplotlib.pyplot as plt"
   ]
  },
  {
   "cell_type": "code",
   "execution_count": null,
   "metadata": {},
   "outputs": [],
   "source": [
    "%matplotlib inline"
   ]
  },
  {
   "cell_type": "markdown",
   "metadata": {},
   "source": [
    "## 데이터 크롤링 시작하기"
   ]
  },
  {
   "cell_type": "code",
   "execution_count": null,
   "metadata": {},
   "outputs": [],
   "source": [
    "driver = webdriver.Chrome('크롬드라이버가 있는 경로 넣기') # Chromedriver PATH"
   ]
  },
  {
   "cell_type": "code",
   "execution_count": null,
   "metadata": {},
   "outputs": [],
   "source": [
    "driver.get(\"https://www.instagram.com/accounts/login/\")"
   ]
  },
  {
   "cell_type": "code",
   "execution_count": null,
   "metadata": {},
   "outputs": [],
   "source": [
    "# driver.maximize_window() # 인터넷 창아, 화면을 좀 전체화며으로 키워 줘! 라는 명령어"
   ]
  },
  {
   "cell_type": "markdown",
   "metadata": {},
   "source": [
    "### 인스타 자동 로그인하기"
   ]
  },
  {
   "cell_type": "code",
   "execution_count": null,
   "metadata": {},
   "outputs": [],
   "source": [
    "username = getpass.getpass(\"Input ID : \") # getpass 는 모든 정보를 가려서 보여주는 장점"
   ]
  },
  {
   "cell_type": "code",
   "execution_count": null,
   "metadata": {},
   "outputs": [],
   "source": [
    "password = getpass.getpass(\"Input PWD : \")"
   ]
  },
  {
   "cell_type": "code",
   "execution_count": null,
   "metadata": {},
   "outputs": [],
   "source": [
    "element_id = driver.find_element_by_name(\"username\")"
   ]
  },
  {
   "cell_type": "code",
   "execution_count": null,
   "metadata": {},
   "outputs": [],
   "source": [
    "element_id.send_keys(username)"
   ]
  },
  {
   "cell_type": "code",
   "execution_count": null,
   "metadata": {},
   "outputs": [],
   "source": [
    "element_password = driver.find_element_by_name(\"password\")"
   ]
  },
  {
   "cell_type": "code",
   "execution_count": null,
   "metadata": {},
   "outputs": [],
   "source": [
    "element_password.send_keys(password)"
   ]
  },
  {
   "cell_type": "code",
   "execution_count": null,
   "metadata": {},
   "outputs": [],
   "source": [
    "sleep(5)"
   ]
  },
  {
   "cell_type": "code",
   "execution_count": null,
   "metadata": {},
   "outputs": [],
   "source": [
    "driver.find_element_by_css_selector('.sqdOP.L3NKy.y3zKF').click()"
   ]
  },
  {
   "cell_type": "markdown",
   "metadata": {},
   "source": [
    "## 해쉬태그로 검색하기"
   ]
  },
  {
   "cell_type": "code",
   "execution_count": null,
   "metadata": {},
   "outputs": [],
   "source": [
    "#driver.get('https://www.instagram.com/explore/tags/국내여행/') #www.instagram.com/explore/tags/검색하고자 하는 패턴/"
   ]
  },
  {
   "cell_type": "code",
   "execution_count": null,
   "metadata": {},
   "outputs": [],
   "source": [
    "driver.get('https://www.instagram.com/explore/tags/국내여행/')"
   ]
  },
  {
   "cell_type": "code",
   "execution_count": null,
   "metadata": {},
   "outputs": [],
   "source": [
    "# 데이터를 저장할 dictionary\n",
    "insta_dict = {'id':[],\n",
    "              'date':[],\n",
    "              'like':[],\n",
    "              'text':[],\n",
    "              'hashtag':[]}"
   ]
  },
  {
   "cell_type": "code",
   "execution_count": null,
   "metadata": {},
   "outputs": [],
   "source": [
    "# 첫 번째 게시물 클릭\n",
    "first_post = driver.find_element_by_class_name('eLAPa')\n",
    "first_post.click()"
   ]
  },
  {
   "cell_type": "markdown",
   "metadata": {},
   "source": [
    "### 자동으로 옆으로 넘기면서 데이터 수집하기"
   ]
  },
  {
   "cell_type": "code",
   "execution_count": null,
   "metadata": {},
   "outputs": [],
   "source": [
    "seq = 0\n",
    "start = time.time()"
   ]
  },
  {
   "cell_type": "code",
   "execution_count": null,
   "metadata": {},
   "outputs": [],
   "source": [
    "while True:\n",
    "    try:\n",
    "        if driver.find_element_by_css_selector('a._65Bje.coreSpriteRightPaginationArrow'):\n",
    "            if seq % 20 == 0:\n",
    "                print('{}번째 수집 중'.format(seq), time.time() - start, sep = '\\t')\n",
    " \n",
    "            ## id 정보 수집\n",
    "            try:\n",
    "                info_id = driver.find_element_by_css_selector('h2._6lAjh').text\n",
    "                insta_dict['id'].append(info_id)\n",
    "            except:\n",
    "                info_id = driver.find_element_by_css_selector('div.C4VMK').text.split()[0]\n",
    "                insta_dict['id'].append(info_id)\n",
    " \n",
    " \n",
    "            ## 시간정보 수집 \n",
    "            time_raw = driver.find_element_by_css_selector('time.FH9sR.Nzb55')\n",
    "            time_info = pd.to_datetime(time_raw.get_attribute('datetime')).normalize()\n",
    "            insta_dict['date'].append(time_info)\n",
    " \n",
    "            ## like 정보 수집\n",
    "            try:\n",
    "                driver.find_element_by_css_selector('button.sqdOP.yWX7d._8A5w5')\n",
    "                like = driver.find_element_by_css_selector('button.sqdOP.yWX7d._8A5w5').text\n",
    "                insta_dict['like'].append(like)\n",
    " \n",
    "            except:\n",
    "                insta_dict['like'].append('영상')\n",
    " \n",
    "            ##text 정보수집\n",
    "            raw_info = driver.find_element_by_css_selector('div.C4VMK').text.split()\n",
    "            text = []\n",
    "            for i in range(len(raw_info)):\n",
    "                ## 첫번째 text는 아이디니까 제외 \n",
    "                if i == 0:\n",
    "                    pass\n",
    "                ## 두번째부터 시작 \n",
    "                else:\n",
    "                    if '#' in raw_info[i]:\n",
    "                        pass\n",
    "                    else:\n",
    "                        text.append(raw_info[i])\n",
    "            clean_text = ' '.join(text)\n",
    "            insta_dict['text'].append(clean_text)\n",
    " \n",
    "            ##hashtag 수집\n",
    "            raw_tags = driver.find_elements_by_css_selector('a.xil3i')\n",
    "            hash_tag = []\n",
    "            for i in range(len(raw_tags)):\n",
    "                if raw_tags[i].text == '':\n",
    "                    pass\n",
    "                else:\n",
    "                    hash_tag.append(raw_tags[i].text)\n",
    " \n",
    "            insta_dict['hashtag'].append(hash_tag)\n",
    " \n",
    "            seq += 1\n",
    " \n",
    "            if seq == 500:\n",
    "                break\n",
    " \n",
    "            driver.find_element_by_css_selector('a._65Bje.coreSpriteRightPaginationArrow').click()\n",
    "            time.sleep(4) # sleep 4초 간격으로, 너무 빠르시 컴퓨터 과부하\n",
    "            \n",
    "        else:\n",
    "            break\n",
    "            \n",
    "    except:\n",
    "        driver.find_element_by_css_selector('a._65Bje.coreSpriteRightPaginationArrow').click()\n",
    "        time.sleep(4)"
   ]
  },
  {
   "cell_type": "code",
   "execution_count": null,
   "metadata": {},
   "outputs": [],
   "source": [
    "test = pd.DataFrame.from_dict(insta_dict)"
   ]
  },
  {
   "cell_type": "code",
   "execution_count": null,
   "metadata": {},
   "outputs": [],
   "source": [
    "test.head()"
   ]
  },
  {
   "cell_type": "code",
   "execution_count": null,
   "metadata": {},
   "outputs": [],
   "source": [
    "print(test)"
   ]
  },
  {
   "cell_type": "code",
   "execution_count": null,
   "metadata": {},
   "outputs": [],
   "source": [
    "test.to_csv('국내여행db20_0713.csv', encoding='utf-8-sig') #csv로 저장"
   ]
  },
  {
   "cell_type": "code",
   "execution_count": null,
   "metadata": {},
   "outputs": [],
   "source": []
  },
  {
   "cell_type": "code",
   "execution_count": null,
   "metadata": {},
   "outputs": [],
   "source": []
  },
  {
   "cell_type": "code",
   "execution_count": null,
   "metadata": {},
   "outputs": [],
   "source": []
  }
 ],
 "metadata": {
  "kernelspec": {
   "display_name": "Python Multi",
   "language": "python",
   "name": "multi"
  },
  "language_info": {
   "codemirror_mode": {
    "name": "ipython",
    "version": 3
   },
   "file_extension": ".py",
   "mimetype": "text/x-python",
   "name": "python",
   "nbconvert_exporter": "python",
   "pygments_lexer": "ipython3",
   "version": "3.7.6"
  }
 },
 "nbformat": 4,
 "nbformat_minor": 4
}
